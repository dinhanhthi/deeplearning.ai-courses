{
  "nbformat": 4,
  "nbformat_minor": 0,
  "metadata": {
    "accelerator": "GPU",
    "colab": {
      "name": "NLP_Week4_Exercise_Shakespeare_Answer.ipynb",
      "provenance": [],
      "toc_visible": true
    },
    "kernelspec": {
      "display_name": "Python 3",
      "name": "python3"
    }
  },
  "cells": [
    {
      "cell_type": "code",
      "metadata": {
        "id": "zX4Kg8DUTKWO"
      },
      "source": [
        "#@title Licensed under the Apache License, Version 2.0 (the \"License\");\n",
        "# you may not use this file except in compliance with the License.\n",
        "# You may obtain a copy of the License at\n",
        "#\n",
        "# https://www.apache.org/licenses/LICENSE-2.0\n",
        "#\n",
        "# Unless required by applicable law or agreed to in writing, software\n",
        "# distributed under the License is distributed on an \"AS IS\" BASIS,\n",
        "# WITHOUT WARRANTIES OR CONDITIONS OF ANY KIND, either express or implied.\n",
        "# See the License for the specific language governing permissions and\n",
        "# limitations under the License."
      ],
      "execution_count": null,
      "outputs": []
    },
    {
      "cell_type": "code",
      "metadata": {
        "id": "BOwsuGQQY9OL"
      },
      "source": [
        "from tensorflow.keras.preprocessing.sequence import pad_sequences\n",
        "from tensorflow.keras.layers import Embedding, LSTM, Dense, Dropout, Bidirectional\n",
        "from tensorflow.keras.preprocessing.text import Tokenizer\n",
        "from tensorflow.keras.models import Sequential\n",
        "from tensorflow.keras.optimizers import Adam\n",
        "from tensorflow.keras import regularizers\n",
        "import tensorflow.keras.utils as ku \n",
        "import numpy as np "
      ],
      "execution_count": 1,
      "outputs": []
    },
    {
      "cell_type": "code",
      "metadata": {
        "id": "PRnDnCW-Z7qv",
        "outputId": "a7fbd10f-201b-4af7-ce9c-df104d35553a",
        "colab": {
          "base_uri": "https://localhost:8080/",
          "height": 204
        }
      },
      "source": [
        "tokenizer = Tokenizer()\n",
        "!wget --no-check-certificate \\\n",
        "    https://storage.googleapis.com/laurencemoroney-blog.appspot.com/sonnets.txt \\\n",
        "    -O /tmp/sonnets.txt\n",
        "data = open('/tmp/sonnets.txt').read()\n",
        "\n",
        "corpus = data.lower().split(\"\\n\")\n",
        "\n",
        "\n",
        "tokenizer.fit_on_texts(corpus)\n",
        "total_words = len(tokenizer.word_index) + 1\n",
        "\n",
        "# create input sequences using list of tokens\n",
        "input_sequences = []\n",
        "for line in corpus:\n",
        "\ttoken_list = tokenizer.texts_to_sequences([line])[0]\n",
        "\tfor i in range(1, len(token_list)):\n",
        "\t\tn_gram_sequence = token_list[:i+1]\n",
        "\t\tinput_sequences.append(n_gram_sequence)\n",
        "\n",
        "\n",
        "# pad sequences \n",
        "max_sequence_len = max([len(x) for x in input_sequences])\n",
        "input_sequences = np.array(pad_sequences(input_sequences, maxlen=max_sequence_len, padding='pre'))\n",
        "\n",
        "# create predictors and label\n",
        "predictors, label = input_sequences[:,:-1],input_sequences[:,-1]\n",
        "\n",
        "label = ku.to_categorical(label, num_classes=total_words)"
      ],
      "execution_count": 2,
      "outputs": [
        {
          "output_type": "stream",
          "text": [
            "--2020-10-16 11:05:04--  https://storage.googleapis.com/laurencemoroney-blog.appspot.com/sonnets.txt\n",
            "Resolving storage.googleapis.com (storage.googleapis.com)... 173.194.76.128, 66.102.1.128, 74.125.206.128, ...\n",
            "Connecting to storage.googleapis.com (storage.googleapis.com)|173.194.76.128|:443... connected.\n",
            "HTTP request sent, awaiting response... 200 OK\n",
            "Length: 93578 (91K) [text/plain]\n",
            "Saving to: ‘/tmp/sonnets.txt’\n",
            "\n",
            "\r/tmp/sonnets.txt      0%[                    ]       0  --.-KB/s               \r/tmp/sonnets.txt    100%[===================>]  91.38K  --.-KB/s    in 0.001s  \n",
            "\n",
            "2020-10-16 11:05:04 (83.7 MB/s) - ‘/tmp/sonnets.txt’ saved [93578/93578]\n",
            "\n"
          ],
          "name": "stdout"
        }
      ]
    },
    {
      "cell_type": "code",
      "metadata": {
        "id": "w9vH8Y59ajYL",
        "outputId": "1cd533b1-ed4b-4596-ba5f-ed427b74567a",
        "colab": {
          "base_uri": "https://localhost:8080/",
          "height": 374
        }
      },
      "source": [
        "model = Sequential()\n",
        "model.add(Embedding(total_words, 100, input_length=max_sequence_len-1))\n",
        "model.add(Bidirectional(LSTM(150, return_sequences = True)))\n",
        "model.add(Dropout(0.2))\n",
        "model.add(LSTM(100))\n",
        "model.add(Dense(total_words/2, activation='relu', kernel_regularizer=regularizers.l2(0.01)))\n",
        "model.add(Dense(total_words, activation='softmax'))\n",
        "model.compile(loss='categorical_crossentropy', optimizer='adam', metrics=['accuracy'])\n",
        "print(model.summary())\n"
      ],
      "execution_count": 3,
      "outputs": [
        {
          "output_type": "stream",
          "text": [
            "Model: \"sequential\"\n",
            "_________________________________________________________________\n",
            "Layer (type)                 Output Shape              Param #   \n",
            "=================================================================\n",
            "embedding (Embedding)        (None, 10, 100)           321100    \n",
            "_________________________________________________________________\n",
            "bidirectional (Bidirectional (None, 10, 300)           301200    \n",
            "_________________________________________________________________\n",
            "dropout (Dropout)            (None, 10, 300)           0         \n",
            "_________________________________________________________________\n",
            "lstm_1 (LSTM)                (None, 100)               160400    \n",
            "_________________________________________________________________\n",
            "dense (Dense)                (None, 1605)              162105    \n",
            "_________________________________________________________________\n",
            "dense_1 (Dense)              (None, 3211)              5156866   \n",
            "=================================================================\n",
            "Total params: 6,101,671\n",
            "Trainable params: 6,101,671\n",
            "Non-trainable params: 0\n",
            "_________________________________________________________________\n",
            "None\n"
          ],
          "name": "stdout"
        }
      ]
    },
    {
      "cell_type": "code",
      "metadata": {
        "id": "AIg2f1HBxqof",
        "outputId": "1de57e27-5e5f-4a9a-9fb9-baa258721e48",
        "colab": {
          "base_uri": "https://localhost:8080/",
          "height": 1000
        }
      },
      "source": [
        " history = model.fit(predictors, label, epochs=100, verbose=1)"
      ],
      "execution_count": 4,
      "outputs": [
        {
          "output_type": "stream",
          "text": [
            "Epoch 1/100\n",
            "484/484 [==============================] - 13s 26ms/step - loss: 6.9162 - accuracy: 0.0190\n",
            "Epoch 2/100\n",
            "484/484 [==============================] - 13s 26ms/step - loss: 6.5000 - accuracy: 0.0240\n",
            "Epoch 3/100\n",
            "484/484 [==============================] - 13s 26ms/step - loss: 6.4095 - accuracy: 0.0244\n",
            "Epoch 4/100\n",
            "484/484 [==============================] - 13s 26ms/step - loss: 6.2920 - accuracy: 0.0282\n",
            "Epoch 5/100\n",
            "484/484 [==============================] - 13s 26ms/step - loss: 6.1968 - accuracy: 0.0346\n",
            "Epoch 6/100\n",
            "484/484 [==============================] - 13s 26ms/step - loss: 6.1095 - accuracy: 0.0399\n",
            "Epoch 7/100\n",
            "484/484 [==============================] - 13s 27ms/step - loss: 6.0269 - accuracy: 0.0406\n",
            "Epoch 8/100\n",
            "484/484 [==============================] - 13s 26ms/step - loss: 5.9329 - accuracy: 0.0445\n",
            "Epoch 9/100\n",
            "484/484 [==============================] - 13s 27ms/step - loss: 5.8262 - accuracy: 0.0497\n",
            "Epoch 10/100\n",
            "484/484 [==============================] - 13s 26ms/step - loss: 5.7081 - accuracy: 0.0570\n",
            "Epoch 11/100\n",
            "484/484 [==============================] - 13s 27ms/step - loss: 5.5968 - accuracy: 0.0605\n",
            "Epoch 12/100\n",
            "484/484 [==============================] - 13s 26ms/step - loss: 5.4897 - accuracy: 0.0687\n",
            "Epoch 13/100\n",
            "484/484 [==============================] - 13s 26ms/step - loss: 5.3794 - accuracy: 0.0733\n",
            "Epoch 14/100\n",
            "484/484 [==============================] - 13s 27ms/step - loss: 5.2804 - accuracy: 0.0814\n",
            "Epoch 15/100\n",
            "484/484 [==============================] - 13s 26ms/step - loss: 5.1700 - accuracy: 0.0900\n",
            "Epoch 16/100\n",
            "484/484 [==============================] - 13s 27ms/step - loss: 5.0672 - accuracy: 0.0980\n",
            "Epoch 17/100\n",
            "484/484 [==============================] - 13s 26ms/step - loss: 4.9555 - accuracy: 0.1055\n",
            "Epoch 18/100\n",
            "484/484 [==============================] - 13s 26ms/step - loss: 4.8460 - accuracy: 0.1149\n",
            "Epoch 19/100\n",
            "484/484 [==============================] - 13s 26ms/step - loss: 4.7448 - accuracy: 0.1243\n",
            "Epoch 20/100\n",
            "484/484 [==============================] - 13s 27ms/step - loss: 4.6386 - accuracy: 0.1358\n",
            "Epoch 21/100\n",
            "484/484 [==============================] - 13s 27ms/step - loss: 4.5419 - accuracy: 0.1409\n",
            "Epoch 22/100\n",
            "484/484 [==============================] - 13s 26ms/step - loss: 4.4264 - accuracy: 0.1517\n",
            "Epoch 23/100\n",
            "484/484 [==============================] - 13s 26ms/step - loss: 4.3186 - accuracy: 0.1665\n",
            "Epoch 24/100\n",
            "484/484 [==============================] - 13s 26ms/step - loss: 4.2167 - accuracy: 0.1786\n",
            "Epoch 25/100\n",
            "484/484 [==============================] - 13s 27ms/step - loss: 4.1117 - accuracy: 0.1920\n",
            "Epoch 26/100\n",
            "484/484 [==============================] - 13s 27ms/step - loss: 4.0129 - accuracy: 0.2050\n",
            "Epoch 27/100\n",
            "484/484 [==============================] - 13s 26ms/step - loss: 3.9042 - accuracy: 0.2220\n",
            "Epoch 28/100\n",
            "484/484 [==============================] - 13s 27ms/step - loss: 3.8115 - accuracy: 0.2373\n",
            "Epoch 29/100\n",
            "484/484 [==============================] - 13s 27ms/step - loss: 3.7128 - accuracy: 0.2593\n",
            "Epoch 30/100\n",
            "484/484 [==============================] - 13s 27ms/step - loss: 3.6267 - accuracy: 0.2733\n",
            "Epoch 31/100\n",
            "484/484 [==============================] - 13s 27ms/step - loss: 3.5177 - accuracy: 0.2941\n",
            "Epoch 32/100\n",
            "484/484 [==============================] - 13s 26ms/step - loss: 3.4315 - accuracy: 0.3143\n",
            "Epoch 33/100\n",
            "484/484 [==============================] - 13s 27ms/step - loss: 3.3568 - accuracy: 0.3300\n",
            "Epoch 34/100\n",
            "484/484 [==============================] - 13s 26ms/step - loss: 3.2633 - accuracy: 0.3524\n",
            "Epoch 35/100\n",
            "484/484 [==============================] - 13s 27ms/step - loss: 3.1810 - accuracy: 0.3738\n",
            "Epoch 36/100\n",
            "484/484 [==============================] - 13s 27ms/step - loss: 3.0991 - accuracy: 0.3901\n",
            "Epoch 37/100\n",
            "484/484 [==============================] - 13s 27ms/step - loss: 3.0156 - accuracy: 0.4075\n",
            "Epoch 38/100\n",
            "484/484 [==============================] - 13s 27ms/step - loss: 2.9471 - accuracy: 0.4289\n",
            "Epoch 39/100\n",
            "484/484 [==============================] - 13s 26ms/step - loss: 2.8789 - accuracy: 0.4413\n",
            "Epoch 40/100\n",
            "484/484 [==============================] - 13s 27ms/step - loss: 2.8213 - accuracy: 0.4552\n",
            "Epoch 41/100\n",
            "484/484 [==============================] - 13s 26ms/step - loss: 2.7434 - accuracy: 0.4717\n",
            "Epoch 42/100\n",
            "484/484 [==============================] - 13s 27ms/step - loss: 2.6724 - accuracy: 0.4867\n",
            "Epoch 43/100\n",
            "484/484 [==============================] - 13s 27ms/step - loss: 2.6172 - accuracy: 0.5025\n",
            "Epoch 44/100\n",
            "484/484 [==============================] - 13s 27ms/step - loss: 2.5602 - accuracy: 0.5150\n",
            "Epoch 45/100\n",
            "484/484 [==============================] - 13s 27ms/step - loss: 2.4955 - accuracy: 0.5263\n",
            "Epoch 46/100\n",
            "484/484 [==============================] - 13s 26ms/step - loss: 2.4584 - accuracy: 0.5336\n",
            "Epoch 47/100\n",
            "484/484 [==============================] - 13s 27ms/step - loss: 2.3979 - accuracy: 0.5482\n",
            "Epoch 48/100\n",
            "484/484 [==============================] - 13s 27ms/step - loss: 2.3423 - accuracy: 0.5618\n",
            "Epoch 49/100\n",
            "484/484 [==============================] - 13s 27ms/step - loss: 2.2899 - accuracy: 0.5768\n",
            "Epoch 50/100\n",
            "484/484 [==============================] - 13s 27ms/step - loss: 2.2509 - accuracy: 0.5828\n",
            "Epoch 51/100\n",
            "484/484 [==============================] - 13s 27ms/step - loss: 2.2024 - accuracy: 0.5985\n",
            "Epoch 52/100\n",
            "484/484 [==============================] - 13s 27ms/step - loss: 2.1633 - accuracy: 0.6015\n",
            "Epoch 53/100\n",
            "484/484 [==============================] - 13s 27ms/step - loss: 2.1228 - accuracy: 0.6098\n",
            "Epoch 54/100\n",
            "484/484 [==============================] - 13s 27ms/step - loss: 2.0728 - accuracy: 0.6242\n",
            "Epoch 55/100\n",
            "484/484 [==============================] - 13s 27ms/step - loss: 2.0433 - accuracy: 0.6309\n",
            "Epoch 56/100\n",
            "484/484 [==============================] - 13s 27ms/step - loss: 1.9924 - accuracy: 0.6408\n",
            "Epoch 57/100\n",
            "484/484 [==============================] - 13s 26ms/step - loss: 1.9622 - accuracy: 0.6484\n",
            "Epoch 58/100\n",
            "484/484 [==============================] - 13s 27ms/step - loss: 1.9169 - accuracy: 0.6566\n",
            "Epoch 59/100\n",
            "484/484 [==============================] - 13s 27ms/step - loss: 1.8748 - accuracy: 0.6672\n",
            "Epoch 60/100\n",
            "484/484 [==============================] - 13s 27ms/step - loss: 1.8606 - accuracy: 0.6731\n",
            "Epoch 61/100\n",
            "484/484 [==============================] - 13s 27ms/step - loss: 1.8253 - accuracy: 0.6739\n",
            "Epoch 62/100\n",
            "484/484 [==============================] - 13s 27ms/step - loss: 1.7916 - accuracy: 0.6842\n",
            "Epoch 63/100\n",
            "484/484 [==============================] - 13s 27ms/step - loss: 1.7593 - accuracy: 0.6905\n",
            "Epoch 64/100\n",
            "484/484 [==============================] - 13s 27ms/step - loss: 1.7302 - accuracy: 0.6995\n",
            "Epoch 65/100\n",
            "484/484 [==============================] - 13s 27ms/step - loss: 1.6966 - accuracy: 0.7031\n",
            "Epoch 66/100\n",
            "484/484 [==============================] - 13s 27ms/step - loss: 1.6696 - accuracy: 0.7116\n",
            "Epoch 67/100\n",
            "484/484 [==============================] - 13s 27ms/step - loss: 1.6639 - accuracy: 0.7071\n",
            "Epoch 68/100\n",
            "484/484 [==============================] - 13s 27ms/step - loss: 1.6319 - accuracy: 0.7163\n",
            "Epoch 69/100\n",
            "484/484 [==============================] - 13s 27ms/step - loss: 1.5945 - accuracy: 0.7222\n",
            "Epoch 70/100\n",
            "484/484 [==============================] - 13s 27ms/step - loss: 1.5771 - accuracy: 0.7255\n",
            "Epoch 71/100\n",
            "484/484 [==============================] - 13s 27ms/step - loss: 1.5542 - accuracy: 0.7302\n",
            "Epoch 72/100\n",
            "484/484 [==============================] - 13s 27ms/step - loss: 1.5372 - accuracy: 0.7348\n",
            "Epoch 73/100\n",
            "484/484 [==============================] - 13s 27ms/step - loss: 1.5095 - accuracy: 0.7376\n",
            "Epoch 74/100\n",
            "484/484 [==============================] - 13s 27ms/step - loss: 1.4831 - accuracy: 0.7455\n",
            "Epoch 75/100\n",
            "484/484 [==============================] - 13s 27ms/step - loss: 1.4837 - accuracy: 0.7441\n",
            "Epoch 76/100\n",
            "484/484 [==============================] - 13s 27ms/step - loss: 1.4529 - accuracy: 0.7486\n",
            "Epoch 77/100\n",
            "484/484 [==============================] - 13s 27ms/step - loss: 1.4196 - accuracy: 0.7584\n",
            "Epoch 78/100\n",
            "484/484 [==============================] - 13s 27ms/step - loss: 1.4211 - accuracy: 0.7538\n",
            "Epoch 79/100\n",
            "484/484 [==============================] - 13s 27ms/step - loss: 1.3988 - accuracy: 0.7595\n",
            "Epoch 80/100\n",
            "484/484 [==============================] - 13s 27ms/step - loss: 1.3814 - accuracy: 0.7624\n",
            "Epoch 81/100\n",
            "484/484 [==============================] - 13s 27ms/step - loss: 1.3620 - accuracy: 0.7659\n",
            "Epoch 82/100\n",
            "484/484 [==============================] - 13s 27ms/step - loss: 1.3492 - accuracy: 0.7679\n",
            "Epoch 83/100\n",
            "484/484 [==============================] - 13s 27ms/step - loss: 1.3229 - accuracy: 0.7752\n",
            "Epoch 84/100\n",
            "484/484 [==============================] - 13s 27ms/step - loss: 1.3094 - accuracy: 0.7773\n",
            "Epoch 85/100\n",
            "484/484 [==============================] - 13s 27ms/step - loss: 1.2968 - accuracy: 0.7784\n",
            "Epoch 86/100\n",
            "484/484 [==============================] - 13s 27ms/step - loss: 1.2942 - accuracy: 0.7798\n",
            "Epoch 87/100\n",
            "484/484 [==============================] - 13s 27ms/step - loss: 1.2792 - accuracy: 0.7809\n",
            "Epoch 88/100\n",
            "484/484 [==============================] - 13s 27ms/step - loss: 1.2627 - accuracy: 0.7832\n",
            "Epoch 89/100\n",
            "484/484 [==============================] - 13s 27ms/step - loss: 1.2554 - accuracy: 0.7832\n",
            "Epoch 90/100\n",
            "484/484 [==============================] - 13s 27ms/step - loss: 1.2328 - accuracy: 0.7879\n",
            "Epoch 91/100\n",
            "484/484 [==============================] - 13s 27ms/step - loss: 1.2274 - accuracy: 0.7877\n",
            "Epoch 92/100\n",
            "484/484 [==============================] - 13s 27ms/step - loss: 1.2007 - accuracy: 0.7945\n",
            "Epoch 93/100\n",
            "484/484 [==============================] - 13s 28ms/step - loss: 1.1960 - accuracy: 0.7943\n",
            "Epoch 94/100\n",
            "484/484 [==============================] - 13s 27ms/step - loss: 1.1892 - accuracy: 0.7965\n",
            "Epoch 95/100\n",
            "484/484 [==============================] - 13s 27ms/step - loss: 1.1847 - accuracy: 0.7945\n",
            "Epoch 96/100\n",
            "484/484 [==============================] - 13s 27ms/step - loss: 1.1783 - accuracy: 0.7938\n",
            "Epoch 97/100\n",
            "484/484 [==============================] - 13s 27ms/step - loss: 1.1650 - accuracy: 0.8000\n",
            "Epoch 98/100\n",
            "484/484 [==============================] - 13s 27ms/step - loss: 1.1572 - accuracy: 0.7987\n",
            "Epoch 99/100\n",
            "484/484 [==============================] - 13s 27ms/step - loss: 1.1384 - accuracy: 0.8004\n",
            "Epoch 100/100\n",
            "484/484 [==============================] - 13s 27ms/step - loss: 1.1278 - accuracy: 0.8037\n"
          ],
          "name": "stdout"
        }
      ]
    },
    {
      "cell_type": "code",
      "metadata": {
        "id": "1fXTEO3GJ282",
        "outputId": "6a3fe80c-3316-4717-bc3c-a9a0c7defdb0",
        "colab": {
          "base_uri": "https://localhost:8080/",
          "height": 545
        }
      },
      "source": [
        "import matplotlib.pyplot as plt\n",
        "acc = history.history['accuracy']\n",
        "loss = history.history['loss']\n",
        "\n",
        "epochs = range(len(acc))\n",
        "\n",
        "plt.plot(epochs, acc, 'b', label='Training accuracy')\n",
        "plt.title('Training accuracy')\n",
        "\n",
        "plt.figure()\n",
        "\n",
        "plt.plot(epochs, loss, 'b', label='Training Loss')\n",
        "plt.title('Training loss')\n",
        "plt.legend()\n",
        "\n",
        "plt.show()"
      ],
      "execution_count": 5,
      "outputs": [
        {
          "output_type": "display_data",
          "data": {
            "image/png": "[encoded data removed]",
            "text/plain": [
              "<Figure size 432x288 with 1 Axes>"
            ]
          },
          "metadata": {
            "tags": [],
            "needs_background": "light"
          }
        },
        {
          "output_type": "display_data",
          "data": {
            "image/png": "[encoded data removed]",
            "text/plain": [
              "<Figure size 432x288 with 1 Axes>"
            ]
          },
          "metadata": {
            "tags": [],
            "needs_background": "light"
          }
        }
      ]
    },
    {
      "cell_type": "code",
      "metadata": {
        "id": "6Vc6PHgxa6Hm",
        "outputId": "225bb976-0768-4240-81b3-65912baea4b8",
        "colab": {
          "base_uri": "https://localhost:8080/",
          "height": 105
        }
      },
      "source": [
        "seed_text = \"Help me Obi Wan Kenobi, you're my only hope\"\n",
        "next_words = 100\n",
        "  \n",
        "for _ in range(next_words):\n",
        "\ttoken_list = tokenizer.texts_to_sequences([seed_text])[0]\n",
        "\ttoken_list = pad_sequences([token_list], maxlen=max_sequence_len-1, padding='pre')\n",
        "\tpredicted = model.predict_classes(token_list, verbose=0)\n",
        "\toutput_word = \"\"\n",
        "\tfor word, index in tokenizer.word_index.items():\n",
        "\t\tif index == predicted:\n",
        "\t\t\toutput_word = word\n",
        "\t\t\tbreak\n",
        "\tseed_text += \" \" + output_word\n",
        "print(seed_text)"
      ],
      "execution_count": 6,
      "outputs": [
        {
          "output_type": "stream",
          "text": [
            "WARNING:tensorflow:From <ipython-input-6-622d307fa19a>:7: Sequential.predict_classes (from tensorflow.python.keras.engine.sequential) is deprecated and will be removed after 2021-01-01.\n",
            "Instructions for updating:\n",
            "Please use instead:* `np.argmax(model.predict(x), axis=-1)`,   if your model does multi-class classification   (e.g. if it uses a `softmax` last-layer activation).* `(model.predict(x) > 0.5).astype(\"int32\")`,   if your model does binary classification   (e.g. if it uses a `sigmoid` last-layer activation).\n",
            "Help me Obi Wan Kenobi, you're my only hope thy worth and make thee hence men lie with green thee it well rare rare bold bold lie to me the canopy the way part sun ground pain spend spend prove twain cross store rolling none ' be remain twain due still acquainted go ' ' lies lies alone so rare skill tongue clearer twain light words days bring thee back so short hence cross'd told ground told thine place better way still forbid me still live worth to thee go well used tell thee doth none live hate twain ground ' resort resort twain friend hence told it dead\n"
          ],
          "name": "stdout"
        }
      ]
    }
  ]
}